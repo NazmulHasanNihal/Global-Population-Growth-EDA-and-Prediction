{
 "cells": [
  {
   "cell_type": "markdown",
   "metadata": {},
   "source": [
    "# **Data Cleaning**"
   ]
  },
  {
   "cell_type": "markdown",
   "metadata": {},
   "source": [
    "## **Loading Libraries**"
   ]
  },
  {
   "cell_type": "code",
   "execution_count": 1,
   "metadata": {},
   "outputs": [],
   "source": [
    "import pandas as pd\n",
    "import numpy as np"
   ]
  },
  {
   "cell_type": "markdown",
   "metadata": {},
   "source": [
    "## **Loading Dataset**"
   ]
  },
  {
   "cell_type": "code",
   "execution_count": 2,
   "metadata": {},
   "outputs": [],
   "source": [
    "wpf = pd.read_csv(\"/workspaces/Global-Population-Growth-EDA-and-Prediction/data/raw/world_population_growth.csv\")"
   ]
  },
  {
   "cell_type": "markdown",
   "metadata": {},
   "source": [
    "## **Handling Missing Data**"
   ]
  },
  {
   "cell_type": "markdown",
   "metadata": {},
   "source": [
    "### **Identifying Missing Data**"
   ]
  },
  {
   "cell_type": "code",
   "execution_count": 4,
   "metadata": {},
   "outputs": [
    {
     "data": {
      "text/plain": [
       "City                  0\n",
       "Country               0\n",
       "Continent            11\n",
       "Population (2024)     0\n",
       "Population (2023)     0\n",
       "Growth Rate           0\n",
       "dtype: int64"
      ]
     },
     "execution_count": 4,
     "metadata": {},
     "output_type": "execute_result"
    }
   ],
   "source": [
    "wpf.isnull().sum()"
   ]
  },
  {
   "cell_type": "markdown",
   "metadata": {},
   "source": [
    "### **Handling Missing Value**"
   ]
  },
  {
   "cell_type": "code",
   "execution_count": 5,
   "metadata": {},
   "outputs": [
    {
     "name": "stderr",
     "output_type": "stream",
     "text": [
      "/tmp/ipykernel_91045/1587291458.py:1: FutureWarning: A value is trying to be set on a copy of a DataFrame or Series through chained assignment using an inplace method.\n",
      "The behavior will change in pandas 3.0. This inplace method will never work because the intermediate object on which we are setting values always behaves as a copy.\n",
      "\n",
      "For example, when doing 'df[col].method(value, inplace=True)', try using 'df.method({col: value}, inplace=True)' or df[col] = df[col].method(value) instead, to perform the operation inplace on the original object.\n",
      "\n",
      "\n",
      "  wpf['Continent'].fillna('Unknown', inplace=True)\n"
     ]
    }
   ],
   "source": [
    "wpf['Continent'] = wpf['Continent'].fillna('Unknown')"
   ]
  },
  {
   "cell_type": "code",
   "execution_count": 6,
   "metadata": {},
   "outputs": [
    {
     "data": {
      "text/plain": [
       "City                 0\n",
       "Country              0\n",
       "Continent            0\n",
       "Population (2024)    0\n",
       "Population (2023)    0\n",
       "Growth Rate          0\n",
       "dtype: int64"
      ]
     },
     "execution_count": 6,
     "metadata": {},
     "output_type": "execute_result"
    }
   ],
   "source": [
    "wpf.isnull().sum()"
   ]
  },
  {
   "cell_type": "markdown",
   "metadata": {},
   "source": [
    "## **Outlier Detection and Handling**"
   ]
  },
  {
   "cell_type": "markdown",
   "metadata": {},
   "source": [
    "### **Identifying Outliers**"
   ]
  },
  {
   "cell_type": "code",
   "execution_count": 7,
   "metadata": {},
   "outputs": [],
   "source": [
    "Q1 = wpf['Growth Rate'].quantile(0.25)\n",
    "Q3 = wpf['Growth Rate'].quantile(0.75)\n",
    "IQR = Q3 - Q1\n",
    "\n",
    "outliers = wpf[(wpf['Growth Rate'] < (Q1 - 1.5 * IQR)) | (wpf['Growth Rate'] > (Q3 + 1.5 * IQR))]"
   ]
  },
  {
   "cell_type": "code",
   "execution_count": 9,
   "metadata": {},
   "outputs": [
    {
     "name": "stdout",
     "output_type": "stream",
     "text": [
      "               City        Country      Continent  Population (2024)  \\\n",
      "47    Dar Es Salaam       Tanzania         Africa            8161231   \n",
      "48         New York  United States  North America            7931147   \n",
      "113         Kampala         Uganda         Africa            4050826   \n",
      "116           Abuja        Nigeria         Africa            4025735   \n",
      "129     Los Angeles  United States  North America            3748640   \n",
      "146     Ouagadougou   Burkina Faso        Unknown            3358934   \n",
      "199         Chicago  United States  North America            2590002   \n",
      "226          Aleppo          Syria           Asia            2317650   \n",
      "355    Philadelphia  United States  North America            1533916   \n",
      "395             Uyo        Nigeria         Africa            1393453   \n",
      "403          Mwanza       Tanzania         Africa            1378014   \n",
      "429   Abomey Calavi          Benin         Africa            1314916   \n",
      "436           Nnewi        Nigeria         Africa            1300993   \n",
      "451       Bujumbura        Burundi         Africa            1277050   \n",
      "469         Xiongan          China           Asia            1240158   \n",
      "491  Bobo Dioulasso   Burkina Faso         Africa            1185053   \n",
      "516        Tshikapa       DR Congo         Africa            1131226   \n",
      "645        San Jose  United States  North America             932636   \n",
      "674          Lokoja        Nigeria         Africa             885882   \n",
      "693           Bunia       DR Congo         Africa             856339   \n",
      "723         Malanje         Angola         Africa             822471   \n",
      "739             Ibb          Yemen           Asia             810149   \n",
      "763            Goma       DR Congo         Africa             781875   \n",
      "786     Nay Pyi Taw        Myanmar           Asia             757823   \n",
      "\n",
      "     Population (2023)  Growth Rate  \n",
      "47             7775865       0.0496  \n",
      "48             8133522      -0.0249  \n",
      "113            3846102       0.0532  \n",
      "116            3839646       0.0485  \n",
      "129            3785439      -0.0097  \n",
      "146            3203923       0.0484  \n",
      "199            2627520      -0.0143  \n",
      "226            2203025       0.0520  \n",
      "355            1550587      -0.0107  \n",
      "395            1329284       0.0483  \n",
      "403            1310754       0.0513  \n",
      "429            1252890       0.0495  \n",
      "436            1239186       0.0499  \n",
      "451            1206767       0.0582  \n",
      "469            1183042       0.0483  \n",
      "491            1128646       0.0500  \n",
      "516            1077108       0.0502  \n",
      "645             951934      -0.0203  \n",
      "674             839046       0.0558  \n",
      "693             812090       0.0545  \n",
      "723             783243       0.0501  \n",
      "739             771514       0.0501  \n",
      "763             744247       0.0506  \n",
      "786             722836       0.0484  \n"
     ]
    }
   ],
   "source": [
    "print(outliers)"
   ]
  },
  {
   "cell_type": "markdown",
   "metadata": {},
   "source": [
    "### **Handling Outliers**"
   ]
  },
  {
   "cell_type": "code",
   "execution_count": 10,
   "metadata": {},
   "outputs": [],
   "source": [
    "wpf = wpf[~((wpf['Growth Rate'] < (Q1 - 1.5 * IQR)) | (wpf['Growth Rate'] > (Q3 + 1.5 * IQR)))]"
   ]
  },
  {
   "cell_type": "markdown",
   "metadata": {},
   "source": [
    "## **Feature Engineering**"
   ]
  },
  {
   "cell_type": "markdown",
   "metadata": {},
   "source": [
    "### **Feature Engineering**"
   ]
  },
  {
   "cell_type": "code",
   "execution_count": 11,
   "metadata": {},
   "outputs": [],
   "source": [
    "wpf['Population Change'] = wpf['Population (2024)'] - wpf['Population (2023)']"
   ]
  },
  {
   "cell_type": "markdown",
   "metadata": {},
   "source": [
    "### **Scaling and Normalization**"
   ]
  },
  {
   "cell_type": "code",
   "execution_count": 12,
   "metadata": {},
   "outputs": [],
   "source": [
    "from sklearn.preprocessing import MinMaxScaler\n",
    "\n",
    "scaler = MinMaxScaler()\n",
    "wpf[['Population (2024)', 'Population (2023)', 'Growth Rate']] = scaler.fit_transform(wpf[['Population (2024)', 'Population (2023)', 'Growth Rate']])"
   ]
  },
  {
   "cell_type": "markdown",
   "metadata": {},
   "source": [
    "## **Saving the Processed Data**"
   ]
  },
  {
   "cell_type": "markdown",
   "metadata": {},
   "source": [
    "### **Saving Cleaned Data**"
   ]
  },
  {
   "cell_type": "code",
   "execution_count": 13,
   "metadata": {},
   "outputs": [],
   "source": [
    "wpf.to_csv(\"/workspaces/Global-Population-Growth-EDA-and-Prediction/data/processed/cleaned_population_growth.csv\", index=False)"
   ]
  }
 ],
 "metadata": {
  "kernelspec": {
   "display_name": "env",
   "language": "python",
   "name": "python3"
  },
  "language_info": {
   "codemirror_mode": {
    "name": "ipython",
    "version": 3
   },
   "file_extension": ".py",
   "mimetype": "text/x-python",
   "name": "python",
   "nbconvert_exporter": "python",
   "pygments_lexer": "ipython3",
   "version": "3.12.3"
  }
 },
 "nbformat": 4,
 "nbformat_minor": 2
}
