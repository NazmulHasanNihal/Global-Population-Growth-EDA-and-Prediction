{
 "cells": [
  {
   "cell_type": "markdown",
   "metadata": {},
   "source": [
    "# **Feature Engineering**"
   ]
  },
  {
   "cell_type": "markdown",
   "metadata": {},
   "source": [
    "## **Loading Libraries**"
   ]
  },
  {
   "cell_type": "code",
   "execution_count": 65,
   "metadata": {},
   "outputs": [],
   "source": [
    "import pandas as pd\n",
    "from sklearn.preprocessing import MinMaxScaler, OneHotEncoder\n",
    "from sklearn.feature_selection import SelectKBest, f_regression"
   ]
  },
  {
   "cell_type": "markdown",
   "metadata": {},
   "source": [
    "### **Loading the Processed Dataset**"
   ]
  },
  {
   "cell_type": "code",
   "execution_count": 66,
   "metadata": {},
   "outputs": [],
   "source": [
    "wpf = pd.read_csv(\"/workspaces/Global-Population-Growth-EDA-and-Prediction/data/processed/cleaned_population_growth.csv\")"
   ]
  },
  {
   "cell_type": "code",
   "execution_count": 67,
   "metadata": {},
   "outputs": [
    {
     "data": {
      "text/html": [
       "<div>\n",
       "<style scoped>\n",
       "    .dataframe tbody tr th:only-of-type {\n",
       "        vertical-align: middle;\n",
       "    }\n",
       "\n",
       "    .dataframe tbody tr th {\n",
       "        vertical-align: top;\n",
       "    }\n",
       "\n",
       "    .dataframe thead th {\n",
       "        text-align: right;\n",
       "    }\n",
       "</style>\n",
       "<table border=\"1\" class=\"dataframe\">\n",
       "  <thead>\n",
       "    <tr style=\"text-align: right;\">\n",
       "      <th></th>\n",
       "      <th>City</th>\n",
       "      <th>Country</th>\n",
       "      <th>Continent</th>\n",
       "      <th>Population (2024)</th>\n",
       "      <th>Population (2023)</th>\n",
       "      <th>Growth Rate</th>\n",
       "      <th>Population Change</th>\n",
       "    </tr>\n",
       "  </thead>\n",
       "  <tbody>\n",
       "    <tr>\n",
       "      <th>0</th>\n",
       "      <td>Tokyo</td>\n",
       "      <td>Japan</td>\n",
       "      <td>Asia</td>\n",
       "      <td>1.000000</td>\n",
       "      <td>1.000000</td>\n",
       "      <td>0.102334</td>\n",
       "      <td>-79070</td>\n",
       "    </tr>\n",
       "    <tr>\n",
       "      <th>1</th>\n",
       "      <td>Delhi</td>\n",
       "      <td>India</td>\n",
       "      <td>Asia</td>\n",
       "      <td>0.909044</td>\n",
       "      <td>0.883378</td>\n",
       "      <td>0.612208</td>\n",
       "      <td>866094</td>\n",
       "    </tr>\n",
       "    <tr>\n",
       "      <th>2</th>\n",
       "      <td>Shanghai</td>\n",
       "      <td>China</td>\n",
       "      <td>Asia</td>\n",
       "      <td>0.800712</td>\n",
       "      <td>0.781078</td>\n",
       "      <td>0.543986</td>\n",
       "      <td>657110</td>\n",
       "    </tr>\n",
       "    <tr>\n",
       "      <th>3</th>\n",
       "      <td>Dhaka</td>\n",
       "      <td>Bangladesh</td>\n",
       "      <td>Asia</td>\n",
       "      <td>0.637581</td>\n",
       "      <td>0.616511</td>\n",
       "      <td>0.701975</td>\n",
       "      <td>726036</td>\n",
       "    </tr>\n",
       "    <tr>\n",
       "      <th>4</th>\n",
       "      <td>Sao Paulo</td>\n",
       "      <td>Brazil</td>\n",
       "      <td>South America</td>\n",
       "      <td>0.606536</td>\n",
       "      <td>0.600335</td>\n",
       "      <td>0.289048</td>\n",
       "      <td>186968</td>\n",
       "    </tr>\n",
       "  </tbody>\n",
       "</table>\n",
       "</div>"
      ],
      "text/plain": [
       "        City     Country      Continent  Population (2024)  Population (2023)  \\\n",
       "0      Tokyo       Japan           Asia           1.000000           1.000000   \n",
       "1      Delhi       India           Asia           0.909044           0.883378   \n",
       "2   Shanghai       China           Asia           0.800712           0.781078   \n",
       "3      Dhaka  Bangladesh           Asia           0.637581           0.616511   \n",
       "4  Sao Paulo      Brazil  South America           0.606536           0.600335   \n",
       "\n",
       "   Growth Rate  Population Change  \n",
       "0     0.102334             -79070  \n",
       "1     0.612208             866094  \n",
       "2     0.543986             657110  \n",
       "3     0.701975             726036  \n",
       "4     0.289048             186968  "
      ]
     },
     "execution_count": 67,
     "metadata": {},
     "output_type": "execute_result"
    }
   ],
   "source": [
    "wpf.head()"
   ]
  },
  {
   "cell_type": "markdown",
   "metadata": {},
   "source": [
    "## **Feature Engineering**"
   ]
  },
  {
   "cell_type": "markdown",
   "metadata": {},
   "source": [
    "### **Creating New Features**"
   ]
  },
  {
   "cell_type": "code",
   "execution_count": 68,
   "metadata": {},
   "outputs": [],
   "source": [
    "wpf[\"Population Change\"] = wpf[\"Population (2024)\"] - wpf[\"Population (2023)\"]\n",
    "wpf[\"Growth Rate per 1000\"] = wpf[\"Growth Rate\"] * 1000"
   ]
  },
  {
   "cell_type": "markdown",
   "metadata": {},
   "source": [
    "### **Encoding Categorical Variables**"
   ]
  },
  {
   "cell_type": "code",
   "execution_count": 71,
   "metadata": {},
   "outputs": [
    {
     "name": "stdout",
     "output_type": "stream",
     "text": [
      "Encoded Features:\n",
      "   Population (2023)  Growth Rate  Population Change  Growth Rate per 1000  \\\n",
      "0           1.000000     0.102334           0.000000            102.333932   \n",
      "1           0.883378     0.612208           0.025666            612.208259   \n",
      "2           0.781078     0.543986           0.019633            543.985637   \n",
      "3           0.616511     0.701975           0.021070            701.974865   \n",
      "4           0.600335     0.289048           0.006201            289.048474   \n",
      "\n",
      "   City_Abidjan  City_Abu Dhabi  City_Acapulco De Juarez  City_Accra  \\\n",
      "0           0.0             0.0                      0.0         0.0   \n",
      "1           0.0             0.0                      0.0         0.0   \n",
      "2           0.0             0.0                      0.0         0.0   \n",
      "3           0.0             0.0                      0.0         0.0   \n",
      "4           0.0             0.0                      0.0         0.0   \n",
      "\n",
      "   City_Ad Dammam  City_Adana  ...  Country_Yemen  Country_Zambia  \\\n",
      "0             0.0         0.0  ...            0.0             0.0   \n",
      "1             0.0         0.0  ...            0.0             0.0   \n",
      "2             0.0         0.0  ...            0.0             0.0   \n",
      "3             0.0         0.0  ...            0.0             0.0   \n",
      "4             0.0         0.0  ...            0.0             0.0   \n",
      "\n",
      "   Country_Zimbabwe  Continent_Asia  Continent_Europe  \\\n",
      "0               0.0             1.0               0.0   \n",
      "1               0.0             1.0               0.0   \n",
      "2               0.0             1.0               0.0   \n",
      "3               0.0             1.0               0.0   \n",
      "4               0.0             0.0               0.0   \n",
      "\n",
      "   Continent_North America  Continent_Oceana  Continent_Oceania  \\\n",
      "0                      0.0               0.0                0.0   \n",
      "1                      0.0               0.0                0.0   \n",
      "2                      0.0               0.0                0.0   \n",
      "3                      0.0               0.0                0.0   \n",
      "4                      0.0               0.0                0.0   \n",
      "\n",
      "   Continent_South America  Continent_Unknown  \n",
      "0                      0.0                0.0  \n",
      "1                      0.0                0.0  \n",
      "2                      0.0                0.0  \n",
      "3                      0.0                0.0  \n",
      "4                      1.0                0.0  \n",
      "\n",
      "[5 rows x 911 columns]\n"
     ]
    }
   ],
   "source": [
    "X = wpf.drop(columns=['Population (2024)'])\n",
    "y = wpf['Population (2024)']\n",
    "\n",
    "categorical_columns = ['City', 'Country', 'Continent']\n",
    "\n",
    "encoder = OneHotEncoder(sparse_output=False, drop='first')\n",
    "\n",
    "X_encoded = encoder.fit_transform(X[categorical_columns])\n",
    "X_encoded_df = pd.DataFrame(X_encoded, columns=encoder.get_feature_names_out(categorical_columns))\n",
    "\n",
    "X_numeric = X.drop(columns=categorical_columns)\n",
    "X_combined = pd.concat([X_numeric.reset_index(drop=True), X_encoded_df.reset_index(drop=True)], axis=1)\n",
    "\n",
    "print(\"Encoded Features:\")\n",
    "print(X_combined.head())"
   ]
  },
  {
   "cell_type": "markdown",
   "metadata": {},
   "source": [
    "### **Scaling Features**"
   ]
  },
  {
   "cell_type": "code",
   "execution_count": 72,
   "metadata": {},
   "outputs": [],
   "source": [
    "scaler = MinMaxScaler()\n",
    "wpf[['Population (2024)', 'Population (2023)', 'Growth Rate', 'Population Change']] = scaler.fit_transform(\n",
    "    wpf[['Population (2024)', 'Population (2023)', 'Growth Rate', 'Population Change']])"
   ]
  },
  {
   "cell_type": "markdown",
   "metadata": {},
   "source": [
    "## **Feature Selection**"
   ]
  },
  {
   "cell_type": "markdown",
   "metadata": {},
   "source": [
    "### **Selecting the Best Features**"
   ]
  },
  {
   "cell_type": "code",
   "execution_count": 73,
   "metadata": {},
   "outputs": [
    {
     "name": "stdout",
     "output_type": "stream",
     "text": [
      "Selected Features: Index(['Population (2023)', 'Population Change', 'City_Delhi', 'City_Shanghai',\n",
      "       'City_Tokyo'],\n",
      "      dtype='object')\n"
     ]
    }
   ],
   "source": [
    "selector = SelectKBest(score_func=f_regression, k=5)\n",
    "\n",
    "X_new = selector.fit_transform(X_combined, y)\n",
    "\n",
    "selected_indices = selector.get_support(indices=True)\n",
    "\n",
    "selected_features = X_combined.columns[selected_indices]\n",
    "\n",
    "print(\"Selected Features:\", selected_features)"
   ]
  },
  {
   "cell_type": "markdown",
   "metadata": {},
   "source": [
    "### **Create a New DataFrame with Selected Features**"
   ]
  },
  {
   "cell_type": "code",
   "execution_count": 75,
   "metadata": {},
   "outputs": [
    {
     "data": {
      "text/html": [
       "<div>\n",
       "<style scoped>\n",
       "    .dataframe tbody tr th:only-of-type {\n",
       "        vertical-align: middle;\n",
       "    }\n",
       "\n",
       "    .dataframe tbody tr th {\n",
       "        vertical-align: top;\n",
       "    }\n",
       "\n",
       "    .dataframe thead th {\n",
       "        text-align: right;\n",
       "    }\n",
       "</style>\n",
       "<table border=\"1\" class=\"dataframe\">\n",
       "  <thead>\n",
       "    <tr style=\"text-align: right;\">\n",
       "      <th></th>\n",
       "      <th>Population (2023)</th>\n",
       "      <th>Population Change</th>\n",
       "      <th>City_Delhi</th>\n",
       "      <th>City_Shanghai</th>\n",
       "      <th>City_Tokyo</th>\n",
       "      <th>Population (2024)</th>\n",
       "    </tr>\n",
       "  </thead>\n",
       "  <tbody>\n",
       "    <tr>\n",
       "      <th>0</th>\n",
       "      <td>1.000000</td>\n",
       "      <td>0.000000</td>\n",
       "      <td>0.0</td>\n",
       "      <td>0.0</td>\n",
       "      <td>1.0</td>\n",
       "      <td>1.000000</td>\n",
       "    </tr>\n",
       "    <tr>\n",
       "      <th>1</th>\n",
       "      <td>0.883378</td>\n",
       "      <td>0.025666</td>\n",
       "      <td>1.0</td>\n",
       "      <td>0.0</td>\n",
       "      <td>0.0</td>\n",
       "      <td>0.909044</td>\n",
       "    </tr>\n",
       "    <tr>\n",
       "      <th>2</th>\n",
       "      <td>0.781078</td>\n",
       "      <td>0.019633</td>\n",
       "      <td>0.0</td>\n",
       "      <td>1.0</td>\n",
       "      <td>0.0</td>\n",
       "      <td>0.800712</td>\n",
       "    </tr>\n",
       "    <tr>\n",
       "      <th>3</th>\n",
       "      <td>0.616511</td>\n",
       "      <td>0.021070</td>\n",
       "      <td>0.0</td>\n",
       "      <td>0.0</td>\n",
       "      <td>0.0</td>\n",
       "      <td>0.637581</td>\n",
       "    </tr>\n",
       "    <tr>\n",
       "      <th>4</th>\n",
       "      <td>0.600335</td>\n",
       "      <td>0.006201</td>\n",
       "      <td>0.0</td>\n",
       "      <td>0.0</td>\n",
       "      <td>0.0</td>\n",
       "      <td>0.606536</td>\n",
       "    </tr>\n",
       "    <tr>\n",
       "      <th>...</th>\n",
       "      <td>...</td>\n",
       "      <td>...</td>\n",
       "      <td>...</td>\n",
       "      <td>...</td>\n",
       "      <td>...</td>\n",
       "      <td>...</td>\n",
       "    </tr>\n",
       "    <tr>\n",
       "      <th>772</th>\n",
       "      <td>0.000260</td>\n",
       "      <td>-0.000220</td>\n",
       "      <td>0.0</td>\n",
       "      <td>0.0</td>\n",
       "      <td>0.0</td>\n",
       "      <td>0.000040</td>\n",
       "    </tr>\n",
       "    <tr>\n",
       "      <th>773</th>\n",
       "      <td>0.000500</td>\n",
       "      <td>-0.000465</td>\n",
       "      <td>0.0</td>\n",
       "      <td>0.0</td>\n",
       "      <td>0.0</td>\n",
       "      <td>0.000035</td>\n",
       "    </tr>\n",
       "    <tr>\n",
       "      <th>774</th>\n",
       "      <td>0.000000</td>\n",
       "      <td>0.000035</td>\n",
       "      <td>0.0</td>\n",
       "      <td>0.0</td>\n",
       "      <td>0.0</td>\n",
       "      <td>0.000035</td>\n",
       "    </tr>\n",
       "    <tr>\n",
       "      <th>775</th>\n",
       "      <td>0.000397</td>\n",
       "      <td>-0.000393</td>\n",
       "      <td>0.0</td>\n",
       "      <td>0.0</td>\n",
       "      <td>0.0</td>\n",
       "      <td>0.000004</td>\n",
       "    </tr>\n",
       "    <tr>\n",
       "      <th>776</th>\n",
       "      <td>0.000298</td>\n",
       "      <td>-0.000298</td>\n",
       "      <td>0.0</td>\n",
       "      <td>0.0</td>\n",
       "      <td>0.0</td>\n",
       "      <td>0.000000</td>\n",
       "    </tr>\n",
       "  </tbody>\n",
       "</table>\n",
       "<p>777 rows × 6 columns</p>\n",
       "</div>"
      ],
      "text/plain": [
       "     Population (2023)  Population Change  City_Delhi  City_Shanghai  \\\n",
       "0             1.000000           0.000000         0.0            0.0   \n",
       "1             0.883378           0.025666         1.0            0.0   \n",
       "2             0.781078           0.019633         0.0            1.0   \n",
       "3             0.616511           0.021070         0.0            0.0   \n",
       "4             0.600335           0.006201         0.0            0.0   \n",
       "..                 ...                ...         ...            ...   \n",
       "772           0.000260          -0.000220         0.0            0.0   \n",
       "773           0.000500          -0.000465         0.0            0.0   \n",
       "774           0.000000           0.000035         0.0            0.0   \n",
       "775           0.000397          -0.000393         0.0            0.0   \n",
       "776           0.000298          -0.000298         0.0            0.0   \n",
       "\n",
       "     City_Tokyo  Population (2024)  \n",
       "0           1.0           1.000000  \n",
       "1           0.0           0.909044  \n",
       "2           0.0           0.800712  \n",
       "3           0.0           0.637581  \n",
       "4           0.0           0.606536  \n",
       "..          ...                ...  \n",
       "772         0.0           0.000040  \n",
       "773         0.0           0.000035  \n",
       "774         0.0           0.000035  \n",
       "775         0.0           0.000004  \n",
       "776         0.0           0.000000  \n",
       "\n",
       "[777 rows x 6 columns]"
      ]
     },
     "execution_count": 75,
     "metadata": {},
     "output_type": "execute_result"
    }
   ],
   "source": [
    "df_selected = X_combined[selected_features].copy()  \n",
    "df_selected['Population (2024)'] = y\n",
    "\n",
    "df_selected"
   ]
  },
  {
   "cell_type": "markdown",
   "metadata": {},
   "source": [
    "## **Saving the Engineered Data**"
   ]
  },
  {
   "cell_type": "markdown",
   "metadata": {},
   "source": [
    "### **Saving the Feature-Engineered Data**"
   ]
  },
  {
   "cell_type": "code",
   "execution_count": 76,
   "metadata": {},
   "outputs": [],
   "source": [
    "df_selected.to_csv('/workspaces/Global-Population-Growth-EDA-and-Prediction/data/processed/final_features.csv', index=False)"
   ]
  }
 ],
 "metadata": {
  "kernelspec": {
   "display_name": "env",
   "language": "python",
   "name": "python3"
  },
  "language_info": {
   "codemirror_mode": {
    "name": "ipython",
    "version": 3
   },
   "file_extension": ".py",
   "mimetype": "text/x-python",
   "name": "python",
   "nbconvert_exporter": "python",
   "pygments_lexer": "ipython3",
   "version": "3.12.3"
  }
 },
 "nbformat": 4,
 "nbformat_minor": 2
}
